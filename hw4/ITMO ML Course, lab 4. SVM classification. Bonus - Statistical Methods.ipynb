{
 "cells": [
  {
   "cell_type": "markdown",
   "metadata": {},
   "source": [
    "# Л.р. №4: SVM-классификация (бонус: статистические методы)"
   ]
  },
  {
   "cell_type": "code",
   "execution_count": 1,
   "metadata": {
    "collapsed": false
   },
   "outputs": [],
   "source": [
    "%matplotlib inline\n",
    "import numpy as np\n",
    "import scipy as sp\n",
    "import pandas as pd\n",
    "import seaborn as sns\n",
    "import matplotlib.pyplot as plt"
   ]
  },
  {
   "cell_type": "code",
   "execution_count": 2,
   "metadata": {
    "collapsed": false
   },
   "outputs": [],
   "source": [
    "from sklearn.svm import SVC\n",
    "from collections import Counter\n",
    "from sklearn.base import BaseEstimator\n",
    "from sklearn.preprocessing import StandardScaler\n",
    "from sklearn.cross_validation import train_test_split, cross_val_score, KFold\n",
    "from sklearn.metrics import confusion_matrix\n",
    "from sklearn.metrics.pairwise import linear_kernel, rbf_kernel\n",
    "from statsmodels.stats.weightstats import zconfint"
   ]
  },
  {
   "cell_type": "markdown",
   "metadata": {},
   "source": [
    "## Часть 1. Обработка и визуализация данных"
   ]
  },
  {
   "cell_type": "code",
   "execution_count": 3,
   "metadata": {
    "collapsed": true
   },
   "outputs": [],
   "source": [
    "data = pd.read_csv('chips.txt', header=None, names=['X', 'Y', 'Class'])\n",
    "data = data.sample(frac=1, random_state=0)"
   ]
  },
  {
   "cell_type": "code",
   "execution_count": 4,
   "metadata": {
    "collapsed": true
   },
   "outputs": [],
   "source": [
    "data['R'] = (data['X']**2 + data['Y']**2) ** 0.5\n",
    "data['Φ'] = np.arctan2(data['X'], data['Y'])\n",
    "X = data[['R', 'Φ']].values\n",
    "y = data['Class'].values"
   ]
  },
  {
   "cell_type": "code",
   "execution_count": 5,
   "metadata": {
    "collapsed": true
   },
   "outputs": [],
   "source": [
    "X = StandardScaler().fit_transform(X)"
   ]
  },
  {
   "cell_type": "code",
   "execution_count": 6,
   "metadata": {
    "collapsed": false
   },
   "outputs": [
    {
     "data": {
      "text/plain": [
       "<matplotlib.axes._subplots.AxesSubplot at 0x7fb857cf6860>"
      ]
     },
     "execution_count": 6,
     "metadata": {},
     "output_type": "execute_result"
    },
    {
     "data": {
      "image/png": "[encoded data removed]",
      "text/plain": [
       "<matplotlib.figure.Figure at 0x7fb857aa5e10>"
      ]
     },
     "metadata": {},
     "output_type": "display_data"
    }
   ],
   "source": [
    "data.plot(kind='scatter', x='R', y='Φ', c='Class')"
   ]
  },
  {
   "cell_type": "code",
   "execution_count": 7,
   "metadata": {
    "collapsed": false
   },
   "outputs": [
    {
     "data": {
      "text/html": [
       "<div>\n",
       "<table border=\"1\" class=\"dataframe\">\n",
       "  <thead>\n",
       "    <tr style=\"text-align: right;\">\n",
       "      <th></th>\n",
       "      <th>X</th>\n",
       "      <th>Y</th>\n",
       "      <th>Class</th>\n",
       "      <th>R</th>\n",
       "      <th>Φ</th>\n",
       "    </tr>\n",
       "  </thead>\n",
       "  <tbody>\n",
       "    <tr>\n",
       "      <th>86</th>\n",
       "      <td>-0.755180</td>\n",
       "      <td>0.290200</td>\n",
       "      <td>0</td>\n",
       "      <td>0.809020</td>\n",
       "      <td>-1.203915</td>\n",
       "    </tr>\n",
       "    <tr>\n",
       "      <th>85</th>\n",
       "      <td>-0.697580</td>\n",
       "      <td>0.041667</td>\n",
       "      <td>0</td>\n",
       "      <td>0.698823</td>\n",
       "      <td>-1.511136</td>\n",
       "    </tr>\n",
       "    <tr>\n",
       "      <th>94</th>\n",
       "      <td>-0.104260</td>\n",
       "      <td>0.991960</td>\n",
       "      <td>0</td>\n",
       "      <td>0.997424</td>\n",
       "      <td>-0.104721</td>\n",
       "    </tr>\n",
       "    <tr>\n",
       "      <th>8</th>\n",
       "      <td>0.016705</td>\n",
       "      <td>-0.404240</td>\n",
       "      <td>1</td>\n",
       "      <td>0.404585</td>\n",
       "      <td>3.100292</td>\n",
       "    </tr>\n",
       "    <tr>\n",
       "      <th>89</th>\n",
       "      <td>-0.380760</td>\n",
       "      <td>0.918860</td>\n",
       "      <td>0</td>\n",
       "      <td>0.994627</td>\n",
       "      <td>-0.392844</td>\n",
       "    </tr>\n",
       "  </tbody>\n",
       "</table>\n",
       "</div>"
      ],
      "text/plain": [
       "           X         Y  Class         R         Φ\n",
       "86 -0.755180  0.290200      0  0.809020 -1.203915\n",
       "85 -0.697580  0.041667      0  0.698823 -1.511136\n",
       "94 -0.104260  0.991960      0  0.997424 -0.104721\n",
       "8   0.016705 -0.404240      1  0.404585  3.100292\n",
       "89 -0.380760  0.918860      0  0.994627 -0.392844"
      ]
     },
     "execution_count": 7,
     "metadata": {},
     "output_type": "execute_result"
    }
   ],
   "source": [
    "data.head()"
   ]
  },
  {
   "cell_type": "code",
   "execution_count": 8,
   "metadata": {
    "collapsed": false
   },
   "outputs": [
    {
     "data": {
      "text/html": [
       "<div>\n",
       "<table border=\"1\" class=\"dataframe\">\n",
       "  <thead>\n",
       "    <tr style=\"text-align: right;\">\n",
       "      <th></th>\n",
       "      <th>X</th>\n",
       "      <th>Y</th>\n",
       "      <th>Class</th>\n",
       "      <th>R</th>\n",
       "      <th>Φ</th>\n",
       "    </tr>\n",
       "  </thead>\n",
       "  <tbody>\n",
       "    <tr>\n",
       "      <th>count</th>\n",
       "      <td>118.000000</td>\n",
       "      <td>118.000000</td>\n",
       "      <td>118.000000</td>\n",
       "      <td>118.000000</td>\n",
       "      <td>118.000000</td>\n",
       "    </tr>\n",
       "    <tr>\n",
       "      <th>mean</th>\n",
       "      <td>0.054779</td>\n",
       "      <td>0.183102</td>\n",
       "      <td>0.491525</td>\n",
       "      <td>0.706937</td>\n",
       "      <td>0.111792</td>\n",
       "    </tr>\n",
       "    <tr>\n",
       "      <th>std</th>\n",
       "      <td>0.496654</td>\n",
       "      <td>0.519743</td>\n",
       "      <td>0.502060</td>\n",
       "      <td>0.222723</td>\n",
       "      <td>1.631429</td>\n",
       "    </tr>\n",
       "    <tr>\n",
       "      <th>min</th>\n",
       "      <td>-0.830070</td>\n",
       "      <td>-0.769740</td>\n",
       "      <td>0.000000</td>\n",
       "      <td>0.174684</td>\n",
       "      <td>-3.061275</td>\n",
       "    </tr>\n",
       "    <tr>\n",
       "      <th>25%</th>\n",
       "      <td>-0.372120</td>\n",
       "      <td>-0.254385</td>\n",
       "      <td>0.000000</td>\n",
       "      <td>0.564194</td>\n",
       "      <td>-1.043877</td>\n",
       "    </tr>\n",
       "    <tr>\n",
       "      <th>50%</th>\n",
       "      <td>-0.006336</td>\n",
       "      <td>0.213455</td>\n",
       "      <td>0.000000</td>\n",
       "      <td>0.710924</td>\n",
       "      <td>-0.011093</td>\n",
       "    </tr>\n",
       "    <tr>\n",
       "      <th>75%</th>\n",
       "      <td>0.478970</td>\n",
       "      <td>0.646562</td>\n",
       "      <td>1.000000</td>\n",
       "      <td>0.882128</td>\n",
       "      <td>1.480940</td>\n",
       "    </tr>\n",
       "    <tr>\n",
       "      <th>max</th>\n",
       "      <td>1.070900</td>\n",
       "      <td>1.108900</td>\n",
       "      <td>1.000000</td>\n",
       "      <td>1.124362</td>\n",
       "      <td>3.100292</td>\n",
       "    </tr>\n",
       "  </tbody>\n",
       "</table>\n",
       "</div>"
      ],
      "text/plain": [
       "                X           Y       Class           R           Φ\n",
       "count  118.000000  118.000000  118.000000  118.000000  118.000000\n",
       "mean     0.054779    0.183102    0.491525    0.706937    0.111792\n",
       "std      0.496654    0.519743    0.502060    0.222723    1.631429\n",
       "min     -0.830070   -0.769740    0.000000    0.174684   -3.061275\n",
       "25%     -0.372120   -0.254385    0.000000    0.564194   -1.043877\n",
       "50%     -0.006336    0.213455    0.000000    0.710924   -0.011093\n",
       "75%      0.478970    0.646562    1.000000    0.882128    1.480940\n",
       "max      1.070900    1.108900    1.000000    1.124362    3.100292"
      ]
     },
     "execution_count": 8,
     "metadata": {},
     "output_type": "execute_result"
    }
   ],
   "source": [
    "data.describe()"
   ]
  },
  {
   "cell_type": "code",
   "execution_count": 9,
   "metadata": {
    "collapsed": false
   },
   "outputs": [
    {
     "data": {
      "text/plain": [
       "0    60\n",
       "1    58\n",
       "Name: Class, dtype: int64"
      ]
     },
     "execution_count": 9,
     "metadata": {},
     "output_type": "execute_result"
    }
   ],
   "source": [
    "data.Class.value_counts()"
   ]
  },
  {
   "cell_type": "markdown",
   "metadata": {},
   "source": [
    "## Часть 2. Классификатор kNN"
   ]
  },
  {
   "cell_type": "code",
   "execution_count": 10,
   "metadata": {
    "collapsed": false
   },
   "outputs": [],
   "source": [
    "def euclidean_metric(x, y):\n",
    "    return np.linalg.norm(x - y, 2)\n",
    "\n",
    "def manhattan_metric(x, y):\n",
    "    return np.linalg.norm(x - y, 1)\n",
    "\n",
    "class KNNClassifier(BaseEstimator):\n",
    "    def __init__(self, k=1, metric=euclidean_metric):\n",
    "        self.k = k\n",
    "        self.metric = metric\n",
    "\n",
    "    def get_params(self, deep=False):\n",
    "        return {\"k\": self.k,\n",
    "                \"metric\": self.metric}\n",
    "\n",
    "    def set_params(self, **params):\n",
    "        self.k = params[\"k\"]\n",
    "        self.metric = params[\"metric\"]\n",
    "    \n",
    "    def fit(self, X, y):\n",
    "        self.X = X\n",
    "        self.y = y\n",
    "\n",
    "    def predict(self, X):\n",
    "        ys = []\n",
    "        for x in X:\n",
    "            order = np.apply_along_axis(lambda y: self.metric(x, y), 1, self.X)\n",
    "            index = np.argsort(order)\n",
    "            self.y = self.y[index]\n",
    "            ws = Counter()\n",
    "            for ix, v in enumerate(self.y[:self.k]):\n",
    "                # linearly decreasing weights\n",
    "                w = self.k - ix\n",
    "                ws[v] = ws.get(v, 0) + w\n",
    "            ys.append(ws.most_common(1)[0][0])\n",
    "        return np.asarray(ys)"
   ]
  },
  {
   "cell_type": "markdown",
   "metadata": {},
   "source": [
    "## Часть 3. Классификатор SVM"
   ]
  },
  {
   "cell_type": "code",
   "execution_count": 11,
   "metadata": {
    "collapsed": false
   },
   "outputs": [],
   "source": [
    "class SVMClassifier(BaseEstimator):\n",
    "    w = None\n",
    "    w0 = None\n",
    "\n",
    "    def __init__(self, C=1.0):\n",
    "        self.C = C\n",
    "\n",
    "    def get_params(self, deep=False):\n",
    "        return {\"C\": self.C}\n",
    "\n",
    "    def set_params(self, **params):\n",
    "        self.C = params[\"C\"]\n",
    "\n",
    "    def fit(self, X, y):\n",
    "        N = len(X)\n",
    "        y_Voron = np.apply_along_axis(lambda t: 2 * t - 1, 0, y)\n",
    "\n",
    "        construct_H = lambda i, j: np.dot(X[i], X[j]) * y_Voron[i] * y_Voron[j]\n",
    "        H = np.fromfunction(np.vectorize(construct_H), (N, N), dtype=int)\n",
    "        c = -np.ones(N)\n",
    "        x0 = np.random.randn(N)\n",
    "        cons = [ {\"type\": \"ineq\", \"fun\": lambda x: self.C * np.ones(N) - x, \"jac\": lambda x: -np.eye(N)}\n",
    "               , {\"type\": \"ineq\", \"fun\": lambda x: x,                       \"jac\": lambda x:  np.eye(N)}\n",
    "               , {\"type\": \"eq\",   \"fun\": lambda x: np.dot(y_Voron, x),      \"jac\": lambda x: y_Voron} ]\n",
    "        opt = {\"disp\": False}\n",
    "\n",
    "        # solve constrained minimization problem using quadratic programming solver\n",
    "        loss = lambda x: 0.5 * np.dot(x.T, np.dot(H, x)) + np.dot(c, x)\n",
    "        jac = lambda x: np.dot(x.T, H) + c\n",
    "        res = sp.optimize.minimize(loss, x0, jac=jac, constraints=cons, method=\"SLSQP\", options=opt)\n",
    "\n",
    "        # find w, w0\n",
    "        self.w = np.dot(res.x * y_Voron, X)\n",
    "        for i, w_i in enumerate(res.x):\n",
    "            if w_i > 0:\n",
    "                self.w0 = np.dot(self.w, X[i]) - y_Voron[i]\n",
    "                break\n",
    "\n",
    "    def predict(self, X):\n",
    "        y_pred_Voron = np.sign(np.dot(X, self.w) - self.w0)\n",
    "        return 0.5 * y_pred_Voron + 0.5"
   ]
  },
  {
   "cell_type": "markdown",
   "metadata": {},
   "source": [
    "---"
   ]
  },
  {
   "cell_type": "markdown",
   "metadata": {},
   "source": [
    "## Часть 4. Результаты"
   ]
  },
  {
   "cell_type": "markdown",
   "metadata": {},
   "source": [
    "### Сравним kNN, SVM и SVC (реализация sk-learn)"
   ]
  },
  {
   "cell_type": "code",
   "execution_count": 12,
   "metadata": {
    "collapsed": false
   },
   "outputs": [
    {
     "name": "stderr",
     "output_type": "stream",
     "text": [
      "/nix/store/h287x5djidqanlak2fpmz8a87jfdnccg-python3.5-scikit-learn-0.17.1/lib/python3.5/site-packages/sklearn/metrics/classification.py:1076: UndefinedMetricWarning: F-score is ill-defined and being set to 0.0 due to no true samples.\n",
      "  'recall', 'true', average, warn_for)\n"
     ]
    },
    {
     "name": "stdout",
     "output_type": "stream",
     "text": [
      "CPU times: user 8.03 s, sys: 16 ms, total: 8.05 s\n",
      "Wall time: 5.09 s\n"
     ]
    }
   ],
   "source": [
    "%%time\n",
    "\n",
    "np.random.seed(42)\n",
    "\n",
    "K = 3\n",
    "C = 1\n",
    "cv_score_1 = cross_val_score(KNNClassifier(K), X, y, scoring=\"f1\", cv=20)\n",
    "cv_score_2 = cross_val_score(SVMClassifier(C), X, y, scoring=\"f1\", cv=20)\n",
    "cv_score_3 = cross_val_score(SVC(C, kernel=\"linear\"), X, y, scoring=\"f1\", cv=20)"
   ]
  },
  {
   "cell_type": "markdown",
   "metadata": {},
   "source": [
    "### Параметрический тест Уилкоксона, средний cross_val_score, доверительные интервалы"
   ]
  },
  {
   "cell_type": "code",
   "execution_count": 13,
   "metadata": {
    "collapsed": false
   },
   "outputs": [
    {
     "name": "stdout",
     "output_type": "stream",
     "text": [
      "KNN mean score: 0.468\n",
      "SVMClassifier() mean score: 0.696\n",
      "sk-learn SVC() mean score: 0.734\n"
     ]
    }
   ],
   "source": [
    "print(\"KNN mean score: %.3f\" % cv_score_1.mean())\n",
    "print(\"SVMClassifier() mean score: %.3f\" % cv_score_2.mean())\n",
    "print(\"sk-learn SVC() mean score: %.3f\" % cv_score_3.mean())"
   ]
  },
  {
   "cell_type": "code",
   "execution_count": 14,
   "metadata": {
    "collapsed": false
   },
   "outputs": [
    {
     "name": "stdout",
     "output_type": "stream",
     "text": [
      "WilcoxonResult(statistic=13.0, pvalue=0.0075495977241239638)\n",
      "Confidence interval: [-0.397; -0.058]\n"
     ]
    }
   ],
   "source": [
    "print(sp.stats.wilcoxon(cv_score_1, cv_score_2))\n",
    "print(\"Confidence interval: [%.3f; %.3f]\" % zconfint(cv_score_1, cv_score_2))"
   ]
  },
  {
   "cell_type": "code",
   "execution_count": 15,
   "metadata": {
    "collapsed": false
   },
   "outputs": [
    {
     "name": "stdout",
     "output_type": "stream",
     "text": [
      "WilcoxonResult(statistic=52.0, pvalue=0.407809041855696)\n",
      "Confidence interval: [-0.199; 0.123]\n"
     ]
    }
   ],
   "source": [
    "print(sp.stats.wilcoxon(cv_score_2, cv_score_3))\n",
    "print(\"Confidence interval: [%.3f; %.3f]\" % zconfint(cv_score_2, cv_score_3))"
   ]
  },
  {
   "cell_type": "markdown",
   "metadata": {},
   "source": [
    "### Confusion matrix"
   ]
  },
  {
   "cell_type": "code",
   "execution_count": 16,
   "metadata": {
    "collapsed": false
   },
   "outputs": [
    {
     "data": {
      "text/plain": [
       "array([[50, 10],\n",
       "       [22, 36]])"
      ]
     },
     "execution_count": 16,
     "metadata": {},
     "output_type": "execute_result"
    }
   ],
   "source": [
    "np.random.seed(42)\n",
    "\n",
    "clf = SVMClassifier()\n",
    "clf.fit(X, y)\n",
    "y_pred = clf.predict(X)\n",
    "confusion_matrix(y, y_pred)"
   ]
  },
  {
   "cell_type": "markdown",
   "metadata": {},
   "source": [
    "**Источники:**\n",
    "\n",
    "- *К. В. Воронцов, «Математические методы обучения по прецедентам», глава «Линейные методы классификации» (http://machinelearning.ru/wiki/images/6/6d/Voron-ML-1.pdf)*\n",
    "\n",
    "- *Конспект курса «Построение выводов по данным» от МФТИ и Яндекса, модуль «Непараметрические критерии», раздел 6.3.1 (https://www.dropbox.com/s/97s9zmhu3p2cnfx/Non-parametric%20criteria.pdf)*"
   ]
  }
 ],
 "metadata": {
  "kernelspec": {
   "display_name": "Python 3",
   "language": "python",
   "name": "python3"
  },
  "language_info": {
   "codemirror_mode": {
    "name": "ipython",
    "version": 3
   },
   "file_extension": ".py",
   "mimetype": "text/x-python",
   "name": "python",
   "nbconvert_exporter": "python",
   "pygments_lexer": "ipython3",
   "version": "3.5.2"
  },
  "latex_envs": {
   "bibliofile": "biblio.bib",
   "cite_by": "apalike",
   "current_citInitial": 1,
   "eqLabelWithNumbers": true,
   "eqNumInitial": 0
  }
 },
 "nbformat": 4,
 "nbformat_minor": 0
}
