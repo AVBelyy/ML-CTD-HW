{
 "cells": [
  {
   "cell_type": "markdown",
   "metadata": {},
   "source": [
    "# Л.р. №7: Нейронные сети"
   ]
  },
  {
   "cell_type": "code",
   "execution_count": 242,
   "metadata": {
    "collapsed": true
   },
   "outputs": [],
   "source": [
    "%matplotlib inline\n",
    "import random\n",
    "import itertools\n",
    "import numpy as np\n",
    "import pandas as pd\n",
    "import matplotlib.pyplot as plt"
   ]
  },
  {
   "cell_type": "code",
   "execution_count": 167,
   "metadata": {
    "collapsed": true
   },
   "outputs": [],
   "source": [
    "from mnist import MNIST\n",
    "from sklearn.metrics import accuracy_score, confusion_matrix\n",
    "from sklearn.preprocessing import scale"
   ]
  },
  {
   "cell_type": "markdown",
   "metadata": {},
   "source": [
    "## Часть 1. Предобработка и визуализация данных"
   ]
  },
  {
   "cell_type": "code",
   "execution_count": 332,
   "metadata": {
    "collapsed": true
   },
   "outputs": [],
   "source": [
    "def transform_image(img):\n",
    "    return np.reshape(img, (784, 1))\n",
    "\n",
    "def transform_label(j, n=10):\n",
    "    e = np.zeros((n, 1))\n",
    "    e[j] = 1.0\n",
    "    return e"
   ]
  },
  {
   "cell_type": "code",
   "execution_count": 333,
   "metadata": {
    "collapsed": false
   },
   "outputs": [
    {
     "name": "stdout",
     "output_type": "stream",
     "text": [
      "CPU times: user 7.5 s, sys: 213 ms, total: 7.72 s\n",
      "Wall time: 7.72 s\n"
     ]
    }
   ],
   "source": [
    "%%time\n",
    "\n",
    "mnist_loader = MNIST(\"data/\")\n",
    "\n",
    "train_images, train_labels = mnist_loader.load_training()\n",
    "test_images, test_labels = mnist_loader.load_testing()\n",
    "\n",
    "train_images = np.array(list(map(transform_image, train_images)))\n",
    "test_images  = np.array(list(map(transform_image, test_images)))\n",
    "train_labels = np.array(list(map(transform_label, train_labels)))\n",
    "test_labels  = np.array(list(map(transform_label, test_labels)))"
   ]
  },
  {
   "cell_type": "code",
   "execution_count": 337,
   "metadata": {
    "collapsed": true
   },
   "outputs": [],
   "source": [
    "def binarize_images(imgs):\n",
    "    return (imgs > 120).astype(int)\n",
    "\n",
    "def standartize_images(imgs):\n",
    "    return scale(imgs, axis=1)\n",
    "\n",
    "train_images = binarize_images(train_images)\n",
    "test_images = binarize_images(test_images)"
   ]
  },
  {
   "cell_type": "markdown",
   "metadata": {},
   "source": [
    "Визуализируем случайные 10 элементов обучающей, и затем тестовой выборки:"
   ]
  },
  {
   "cell_type": "code",
   "execution_count": 338,
   "metadata": {
    "collapsed": false
   },
   "outputs": [
    {
     "data": {
      "image/png": "[encoded data removed]",
      "text/plain": [
       "<matplotlib.figure.Figure at 0x7f71e1b167b8>"
      ]
     },
     "metadata": {},
     "output_type": "display_data"
    }
   ],
   "source": [
    "np.random.seed(42)\n",
    "\n",
    "train_indices = np.random.randint(0, len(train_images), 10)\n",
    "\n",
    "for ix, image in enumerate(train_images[train_indices]):\n",
    "    plt.subplot(2, 5, ix + 1)\n",
    "    plt.axis(\"off\")\n",
    "    plt.imshow(np.reshape(image, (28, 28)), cmap=plt.cm.gray_r, interpolation=\"nearest\")\n",
    "plt.show()"
   ]
  },
  {
   "cell_type": "code",
   "execution_count": 339,
   "metadata": {
    "collapsed": false
   },
   "outputs": [
    {
     "data": {
      "image/png": "[encoded data removed]",
      "text/plain": [
       "<matplotlib.figure.Figure at 0x7f71cb324978>"
      ]
     },
     "metadata": {},
     "output_type": "display_data"
    }
   ],
   "source": [
    "np.random.seed(42)\n",
    "\n",
    "test_indices = np.random.randint(0, len(test_images), 10)\n",
    "\n",
    "for ix, image in enumerate(test_images[test_indices]):\n",
    "    plt.subplot(2, 5, ix + 1)\n",
    "    plt.axis(\"off\")\n",
    "    plt.imshow(np.reshape(image, (28, 28)), cmap=plt.cm.gray_r, interpolation=\"nearest\")\n",
    "plt.show()"
   ]
  },
  {
   "cell_type": "markdown",
   "metadata": {},
   "source": [
    "## Часть 2. NN Classifier"
   ]
  },
  {
   "cell_type": "code",
   "execution_count": 396,
   "metadata": {
    "collapsed": true
   },
   "outputs": [],
   "source": [
    "# Cost functions\n",
    "\n",
    "class QuadraticCost(object):\n",
    "    @staticmethod\n",
    "    def fn(a, y):\n",
    "        return 0.5 * np.linalg.norm(a - y) ** 2\n",
    "\n",
    "    @staticmethod\n",
    "    def delta(z, a, y):\n",
    "        return (a - y) * Dσ(z)\n",
    "\n",
    "class CrossEntropyCost(object):\n",
    "    @staticmethod\n",
    "    def fn(a, y):\n",
    "        return np.sum(np.nan_to_num(-y * np.log(a) - (1 - y) * np.log(1 - a)))\n",
    "\n",
    "    @staticmethod\n",
    "    def delta(z, a, y):\n",
    "        return a - y"
   ]
  },
  {
   "cell_type": "code",
   "execution_count": 398,
   "metadata": {
    "collapsed": true
   },
   "outputs": [],
   "source": [
    "# Sigmoid ctivation function\n",
    "\n",
    "def σ(x):\n",
    "    return 1.0 / (1.0 + np.exp(-x))\n",
    "\n",
    "def Dσ(x):\n",
    "    return σ(x) * (1 - σ(x))"
   ]
  },
  {
   "cell_type": "code",
   "execution_count": 445,
   "metadata": {
    "collapsed": false
   },
   "outputs": [],
   "source": [
    "class NNClassifier(object):\n",
    "    def __init__(self, sizes, cost=CrossEntropyCost):\n",
    "        self.num_layers = len(sizes)\n",
    "        self.sizes = sizes\n",
    "        self.default_weight_initializer()\n",
    "        self.cost = cost\n",
    "\n",
    "    def default_weight_initializer(self):\n",
    "        self.biases = [np.random.randn(y, 1) for y in self.sizes[1:]]\n",
    "        self.weights = [np.random.randn(y, x)/np.sqrt(x)\n",
    "                        for x, y in zip(self.sizes[:-1], self.sizes[1:])]\n",
    "\n",
    "    def feedforward(self, X):\n",
    "        for b, w in zip(self.biases, self.weights):\n",
    "            X = σ(np.dot(w, X) + b)\n",
    "        return X\n",
    "\n",
    "    def SGD(self, train_data, epochs, mini_batch_size, eta):\n",
    "        n = len(train_data)\n",
    "        for j in range(epochs):\n",
    "            random.shuffle(train_data)\n",
    "            mini_batches = [\n",
    "                train_data[k : k + mini_batch_size]\n",
    "                for k in range(0, n, mini_batch_size)]\n",
    "            for mini_batch in mini_batches:\n",
    "                self.update_mini_batch(mini_batch, eta)\n",
    "            accuracy = self.accuracy(train_data) / n\n",
    "            print(\"epoch=%d: accuracy=%.3f\" % (j, accuracy))\n",
    "\n",
    "    def update_mini_batch(self, mini_batch, eta):\n",
    "        grad_b = [np.zeros(b.shape) for b in self.biases]\n",
    "        grad_w = [np.zeros(w.shape) for w in self.weights]\n",
    "        for x, y in mini_batch:\n",
    "            delta_grad_b, delta_grad_w = self.backprop(x, y)\n",
    "            grad_b = [nb + dnb for nb, dnb in zip(grad_b, delta_grad_b)]\n",
    "            grad_w = [nw + dnw for nw, dnw in zip(grad_w, delta_grad_w)]\n",
    "        self.weights = [w - (eta / len(mini_batch)) * nw\n",
    "                        for w, nw in zip(self.weights, grad_w)]\n",
    "        self.biases = [b - (eta / len(mini_batch)) * nb\n",
    "                       for b, nb in zip(self.biases, grad_b)]\n",
    "\n",
    "    def backprop(self, x, y):\n",
    "        grad_b = [np.zeros(b.shape) for b in self.biases]\n",
    "        grad_w = [np.zeros(w.shape) for w in self.weights]\n",
    "        # Forward propagation of weights\n",
    "        activation = x\n",
    "        activations = [x]\n",
    "        zs = []\n",
    "        for b, w in zip(self.biases, self.weights):\n",
    "            z = np.dot(w, activation) + b\n",
    "            zs.append(z)\n",
    "            activation = σ(z)\n",
    "            activations.append(activation)\n",
    "        # Backward propagation of weights\n",
    "        δ = (self.cost).delta(zs[-1], activations[-1], y)\n",
    "        grad_b[-1] = δ\n",
    "        grad_w[-1] = np.dot(δ, activations[-2].transpose())\n",
    "        for l in range(2, self.num_layers):\n",
    "            z = zs[-l]\n",
    "            dσ = Dσ(z)\n",
    "            δ = np.dot(self.weights[-l+1].transpose(), δ) * dσ\n",
    "            grad_b[-l] = δ\n",
    "            grad_w[-l] = np.dot(δ, activations[-l-1].transpose())\n",
    "        return (grad_b, grad_w)\n",
    "\n",
    "    def accuracy(self, data, convert=False):\n",
    "        results = [(np.argmax(self.feedforward(x)), np.argmax(y))\n",
    "                   for (x, y) in data]\n",
    "        return sum(int(x == y) for (x, y) in results)"
   ]
  },
  {
   "cell_type": "markdown",
   "metadata": {},
   "source": [
    "## Часть 3. Обучение классификатора"
   ]
  },
  {
   "cell_type": "code",
   "execution_count": 449,
   "metadata": {
    "collapsed": false
   },
   "outputs": [
    {
     "name": "stdout",
     "output_type": "stream",
     "text": [
      "epoch=0: accuracy=0.881\n",
      "epoch=1: accuracy=0.896\n",
      "epoch=2: accuracy=0.909\n",
      "epoch=3: accuracy=0.918\n",
      "epoch=4: accuracy=0.922\n",
      "epoch=5: accuracy=0.928\n",
      "epoch=6: accuracy=0.933\n",
      "epoch=7: accuracy=0.939\n",
      "epoch=8: accuracy=0.941\n",
      "epoch=9: accuracy=0.946\n",
      "epoch=10: accuracy=0.948\n",
      "epoch=11: accuracy=0.951\n",
      "epoch=12: accuracy=0.954\n",
      "epoch=13: accuracy=0.956\n",
      "epoch=14: accuracy=0.959\n",
      "epoch=15: accuracy=0.960\n",
      "epoch=16: accuracy=0.963\n",
      "epoch=17: accuracy=0.964\n",
      "epoch=18: accuracy=0.967\n",
      "epoch=19: accuracy=0.968\n",
      "CPU times: user 3h 6min 20s, sys: 33.4 s, total: 3h 6min 54s\n",
      "Wall time: 50min 15s\n"
     ]
    }
   ],
   "source": [
    "%%time\n",
    "\n",
    "train_data = list(zip(train_images, train_labels))\n",
    "\n",
    "clf = NNClassifier([784, 300, 10])\n",
    "clf.SGD(train_data, 20, 64, 0.1)"
   ]
  },
  {
   "cell_type": "markdown",
   "metadata": {},
   "source": [
    "## Часть 4. Использование и оценка классификатора"
   ]
  },
  {
   "cell_type": "code",
   "execution_count": 450,
   "metadata": {
    "collapsed": false
   },
   "outputs": [
    {
     "name": "stdout",
     "output_type": "stream",
     "text": [
      "CPU times: user 3.72 s, sys: 17 ms, total: 3.74 s\n",
      "Wall time: 982 ms\n"
     ]
    }
   ],
   "source": [
    "%%time\n",
    "\n",
    "# Compute predictions\n",
    "y_true = np.argmax(test_labels, axis=1).T[0]\n",
    "y_pred = np.array([np.argmax(clf.feedforward(x)) for x in test_images])"
   ]
  },
  {
   "cell_type": "markdown",
   "metadata": {},
   "source": [
    "### Частота ошибок на контрольной выборке"
   ]
  },
  {
   "cell_type": "code",
   "execution_count": 451,
   "metadata": {
    "collapsed": false
   },
   "outputs": [
    {
     "name": "stdout",
     "output_type": "stream",
     "text": [
      "Error rate: 3.8%\n"
     ]
    }
   ],
   "source": [
    "score = accuracy_score(y_true, y_pred)\n",
    "print(\"Error rate: %.1f%%\" % (100 * (1 - score)))"
   ]
  },
  {
   "cell_type": "markdown",
   "metadata": {},
   "source": [
    "### Confusion Matrix"
   ]
  },
  {
   "cell_type": "code",
   "execution_count": 452,
   "metadata": {
    "collapsed": false
   },
   "outputs": [
    {
     "data": {
      "image/png": "[encoded data removed]",
      "text/plain": [
       "<matplotlib.figure.Figure at 0x7f71c3930d68>"
      ]
     },
     "metadata": {},
     "output_type": "display_data"
    }
   ],
   "source": [
    "# Compute confusion matrix\n",
    "cm = confusion_matrix(y_true, y_pred)\n",
    "\n",
    "# Normalize confusion matrix\n",
    "cm = cm.astype('float') / cm.sum(axis=1)[:, np.newaxis]\n",
    "\n",
    "# Plot confusion matrix\n",
    "plt.figure(figsize=(16, 8))\n",
    "plt.imshow(cm, interpolation='nearest', cmap=\"Blues\")\n",
    "plt.colorbar()\n",
    "classes = range(10)\n",
    "tick_marks = np.arange(len(classes))\n",
    "plt.xticks(tick_marks, classes)\n",
    "plt.yticks(tick_marks, classes)\n",
    "plt.grid(\"off\")\n",
    "\n",
    "# Plot digits of confusion matrix\n",
    "thresh = cm.max() / 2.\n",
    "for i, j in itertools.product(range(cm.shape[0]), range(cm.shape[1])):\n",
    "    plt.text(j, i, \"%.2f\" % cm[i, j],\n",
    "             horizontalalignment=\"center\",\n",
    "             color=\"white\" if cm[i, j] > thresh else \"black\")\n",
    "\n",
    "\n",
    "plt.show()"
   ]
  },
  {
   "cell_type": "markdown",
   "metadata": {},
   "source": [
    "### Анализ ошибок классификатора"
   ]
  },
  {
   "cell_type": "code",
   "execution_count": 453,
   "metadata": {
    "collapsed": false
   },
   "outputs": [],
   "source": [
    "wrong_ones = []\n",
    "for d in range(10):\n",
    "    wrong_ones.append([])\n",
    "\n",
    "for i, (true, pred) in enumerate(zip(y_true, y_pred)):\n",
    "    if true != pred:\n",
    "        img = test_images[i]\n",
    "        wrong_ones[true].append((img, pred, i))"
   ]
  },
  {
   "cell_type": "code",
   "execution_count": 454,
   "metadata": {
    "collapsed": false
   },
   "outputs": [
    {
     "data": {
      "image/png": "[encoded data removed]",
      "text/plain": [
       "<matplotlib.figure.Figure at 0x7f71e1aee198>"
      ]
     },
     "metadata": {},
     "output_type": "display_data"
    }
   ],
   "source": [
    "topN = 5\n",
    "\n",
    "plt.figure(figsize=(16, 16))\n",
    "for d in range(10):\n",
    "    for k, (img, pred, i) in enumerate(wrong_ones[d][:topN]):\n",
    "        plt.subplot(10, topN, topN * d + k + 1)\n",
    "        plt.axis(\"off\")\n",
    "        plt.imshow(np.reshape(img, (28, 28)), cmap=plt.cm.gray_r, interpolation=\"nearest\")\n",
    "        plt.title(\"I=%d Predicted: %d\" % (i, pred))\n",
    "plt.show()"
   ]
  },
  {
   "cell_type": "markdown",
   "metadata": {},
   "source": [
    "### Дообучение на тестовой выборке"
   ]
  },
  {
   "cell_type": "code",
   "execution_count": 465,
   "metadata": {
    "collapsed": true
   },
   "outputs": [],
   "source": [
    "indices_to_learn = [320, 448, 882, 1107, 1192]"
   ]
  },
  {
   "cell_type": "code",
   "execution_count": 466,
   "metadata": {
    "collapsed": false
   },
   "outputs": [
    {
     "name": "stdout",
     "output_type": "stream",
     "text": [
      "CPU times: user 47 ms, sys: 1e+03 µs, total: 48 ms\n",
      "Wall time: 15 ms\n"
     ]
    }
   ],
   "source": [
    "%%time\n",
    "\n",
    "additional_train_data = list(zip(test_images[indices_to_learn], test_labels[indices_to_learn]))\n",
    "\n",
    "clf.update_mini_batch(additional_train_data, 0.1)"
   ]
  },
  {
   "cell_type": "markdown",
   "metadata": {},
   "source": [
    "### Ручное распознавание тестовой выборки"
   ]
  },
  {
   "cell_type": "code",
   "execution_count": 468,
   "metadata": {
    "collapsed": true
   },
   "outputs": [],
   "source": [
    "indices_to_test = [320, 448, 882, 1107, 1192]"
   ]
  },
  {
   "cell_type": "code",
   "execution_count": 469,
   "metadata": {
    "collapsed": true
   },
   "outputs": [],
   "source": [
    "y_additional_pred = np.array([np.argmax(clf.feedforward(x)) for x in test_images[indices_to_test]])"
   ]
  },
  {
   "cell_type": "code",
   "execution_count": 470,
   "metadata": {
    "collapsed": false
   },
   "outputs": [
    {
     "data": {
      "image/png": "[encoded data removed]",
      "text/plain": [
       "<matplotlib.figure.Figure at 0x7f71c3bef898>"
      ]
     },
     "metadata": {},
     "output_type": "display_data"
    }
   ],
   "source": [
    "plt.figure(figsize=(16, 16))\n",
    "for k, (pred, i) in enumerate(zip(y_additional_pred, indices_to_test)):\n",
    "    img = test_images[i]\n",
    "    plt.subplot(10, len(indices_to_test), len(indices_to_test) * d + k + 1)\n",
    "    plt.axis(\"off\")\n",
    "    plt.imshow(np.reshape(img, (28, 28)), cmap=plt.cm.gray_r, interpolation=\"nearest\")\n",
    "    plt.title(\"I=%d Predicted: %d\" % (i, pred))\n",
    "plt.show()"
   ]
  },
  {
   "cell_type": "markdown",
   "metadata": {},
   "source": [
    "### Ручное распознавание изображений"
   ]
  },
  {
   "cell_type": "code",
   "execution_count": 471,
   "metadata": {
    "collapsed": true
   },
   "outputs": [],
   "source": [
    "from PIL import Image"
   ]
  },
  {
   "cell_type": "code",
   "execution_count": 531,
   "metadata": {
    "collapsed": true
   },
   "outputs": [],
   "source": [
    "FILENAME = \"2.png\""
   ]
  },
  {
   "cell_type": "code",
   "execution_count": 532,
   "metadata": {
    "collapsed": true
   },
   "outputs": [],
   "source": [
    "pil_image = Image.open(\"data/manual/\" + FILENAME).resize((28, 28))\n",
    "img = (255 - np.asarray(pil_image.convert(\"L\"))).reshape(784, 1)"
   ]
  },
  {
   "cell_type": "code",
   "execution_count": 533,
   "metadata": {
    "collapsed": false
   },
   "outputs": [],
   "source": [
    "img = binarize_images(img)"
   ]
  },
  {
   "cell_type": "code",
   "execution_count": 534,
   "metadata": {
    "collapsed": false
   },
   "outputs": [
    {
     "data": {
      "text/plain": [
       "<matplotlib.image.AxesImage at 0x7f71c76ad198>"
      ]
     },
     "execution_count": 534,
     "metadata": {},
     "output_type": "execute_result"
    },
    {
     "data": {
      "image/png": "[encoded data removed]",
      "text/plain": [
       "<matplotlib.figure.Figure at 0x7f71caf620b8>"
      ]
     },
     "metadata": {},
     "output_type": "display_data"
    }
   ],
   "source": [
    "plt.imshow(np.reshape(img, (28, 28)), cmap=plt.cm.gray_r, interpolation=\"nearest\")"
   ]
  },
  {
   "cell_type": "code",
   "execution_count": 535,
   "metadata": {
    "collapsed": false
   },
   "outputs": [
    {
     "name": "stdout",
     "output_type": "stream",
     "text": [
      "Predicted value: 2\n"
     ]
    }
   ],
   "source": [
    "y_additional_pred = np.argmax(clf.feedforward(img))\n",
    "print(\"Predicted value: %d\" % y_additional_pred)"
   ]
  },
  {
   "cell_type": "markdown",
   "metadata": {},
   "source": [
    "---"
   ]
  },
  {
   "cell_type": "markdown",
   "metadata": {},
   "source": [
    "**Источники:**\n",
    "\n",
    "* *К. В. Воронцов, «Математические методы обучения по прецедентам», глава «Искусственные нейронные сети» (http://machinelearning.ru/wiki/images/6/6d/Voron-ML-1.pdf)*\n",
    "* *Michael Nielsen, «Neural networks and deep learning», Chapter 3 «Improving the way neural networks learn» (http://neuralnetworksanddeeplearning.com/chap3.html)*"
   ]
  }
 ],
 "metadata": {
  "kernelspec": {
   "display_name": "Python 3",
   "language": "python",
   "name": "python3"
  },
  "language_info": {
   "codemirror_mode": {
    "name": "ipython",
    "version": 3
   },
   "file_extension": ".py",
   "mimetype": "text/x-python",
   "name": "python",
   "nbconvert_exporter": "python",
   "pygments_lexer": "ipython3",
   "version": "3.5.2"
  },
  "latex_envs": {
   "bibliofile": "biblio.bib",
   "cite_by": "apalike",
   "current_citInitial": 1,
   "eqLabelWithNumbers": true,
   "eqNumInitial": 0
  }
 },
 "nbformat": 4,
 "nbformat_minor": 0
}
